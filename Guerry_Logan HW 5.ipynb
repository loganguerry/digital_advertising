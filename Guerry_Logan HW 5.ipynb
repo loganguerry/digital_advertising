{
 "cells": [
  {
   "cell_type": "markdown",
   "metadata": {},
   "source": [
    "# Guerry_Logan HW 5"
   ]
  },
  {
   "cell_type": "code",
   "execution_count": null,
   "metadata": {},
   "outputs": [],
   "source": [
    "import pandas as pd\n",
    "import seaborn as sns\n",
    "import statsmodels.api as sm\n",
    "import os\n",
    "\n",
    "os.chdir('/Users/loganguerry/Desktop/HW5')\n",
    "\n",
    "# In[52]:\n",
    "\n",
    "# read data\n",
    "tp = pd.read_csv('Travel Pony Facebook.csv')\n",
    "new_tp = tp[tp['Amount Spent (USD)'] != 0]\n",
    "\n",
    "# galnce at the data\n",
    "# data.head(5)\n",
    "\n",
    "\n",
    "# In[52]:\n",
    "\n",
    "# histogram of amount spent\n",
    "sns.set_style('darkgrid')\n",
    "sns.distplot(new_tp['Amount Spent (USD)'])\n",
    "\n",
    "\n",
    "# In[70]:\n",
    "\n",
    "\n",
    "# prepping the data for fitting into the model\n",
    "\n",
    "# multiple column approach\n",
    "# campaign_name = pd.get.dummies(data['campaign_name'])\n",
    "# X = pd.concat([X, campaign_name], axis = 1)\n",
    "\n",
    "new_tp['Campaign Name'] = new_tp['Campaign Name'].astype('category')\n",
    "new_tp['Campaign Code'] = new_tp['Campaign Name'].cat.codes\n",
    "\n",
    "X = new_tp[['Reach', 'Frequency', 'Clicks','Unique Clicks','Page Likes','Page Engagement','Post Engagement','Post Likes','Post Comments','Post Shares','Photo Views','Website Clicks','Campaign Code']]\n",
    "\n",
    "X = sm.add_constant(X)\n",
    "Y = new_tp['Amount Spent (USD)']\n",
    "\n",
    "\n",
    "\n",
    "# In[72]:\n",
    "\n",
    "tp_model = sm.OLS(Y,X).fit()\n",
    "tp_pred = tp_model.predict(X)\n",
    "print(tp_model.summary())\n"
   ]
  }
 ],
 "metadata": {
  "kernelspec": {
   "display_name": "Python 3",
   "language": "python",
   "name": "python3"
  },
  "language_info": {
   "codemirror_mode": {
    "name": "ipython",
    "version": 3
   },
   "file_extension": ".py",
   "mimetype": "text/x-python",
   "name": "python",
   "nbconvert_exporter": "python",
   "pygments_lexer": "ipython3",
   "version": "3.6.5"
  }
 },
 "nbformat": 4,
 "nbformat_minor": 2
}
