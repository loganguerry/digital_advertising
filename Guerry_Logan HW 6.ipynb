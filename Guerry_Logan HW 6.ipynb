{
 "cells": [
  {
   "cell_type": "markdown",
   "metadata": {},
   "source": [
    "# Guerry_Logan HW 6"
   ]
  },
  {
   "cell_type": "code",
   "execution_count": null,
   "metadata": {},
   "outputs": [],
   "source": [
    "import pandas as pd\n",
    "from sklearn.cross_validation import train_test_split\n",
    "from sklearn.linear_model import LassoLarsCV\n",
    "import matplotlib.pyplot as plt\n",
    "\n",
    "import os\n",
    "os.chdir('/Users/loganguerry/Desktop/Homework/HW6')\n",
    "\n",
    "alldata = pd.read_csv('finalmaster-ratios.csv')\n",
    "\n",
    "allvariablenames = list(alldata.columns.values)\n",
    "\n",
    "#remove unneccesasary columns\n",
    "del allvariablenames[0:8]\n",
    "\n",
    "#load predictors into dataframe\n",
    "predictors = alldata[allvariablenames]  \n",
    "\n",
    "#load target into dataframe\n",
    "target = alldata['# Purchases']\n",
    "\n",
    "# split data into train and test sets, with 30% retained for test\n",
    "pred_train, pred_test, tar_train, tar_test = train_test_split(predictors, target, test_size=.3, random_state=123)    \n",
    "             \n",
    "# LASSO\n",
    "model = LassoLarsCV(cv=10, precompute = False).fit(pred_train, tar_train)\n",
    "\n",
    "# Next, let's see which variables were significant by extracting them from the model build coefficent chart\n",
    "predictors_model=pd.DataFrame(allvariablenames)\n",
    "predictors_model.columns = ['label']\n",
    "predictors_model['coeff'] = model.coef_\n",
    "\n",
    "for index, row in predictors_model.iterrows():\n",
    "    if row['coeff'] > 0:\n",
    "        print(row.values)\n",
    "    \n",
    "from sklearn.metrics import mean_squared_error\n",
    "\n",
    "# Next, let's take a look at the mean squared error for the training and training set:\n",
    "train_error = mean_squared_error(tar_train, model.predict(pred_train))\n",
    "print('training data MSE:')\n",
    "print(train_error)\n",
    "\n",
    "# Mean squared error for your test sets(2) and (4) above.\n",
    "test_error = mean_squared_error(tar_test, model.predict(pred_test))\n",
    "print('test data MSE:')\n",
    "print(test_error)\n",
    "\n",
    "# Next, let's see what our R-sqaured is for the training set:\n",
    "rsquared_train=model.score(pred_train,tar_train)\n",
    "print('training data R-squared:')\n",
    "print(rsquared_train)\n",
    "\n",
    "# Repeat the same process for the test set. Compare the two R squareds.\n",
    "rsquared_test=model.score(pred_test,tar_test)\n",
    "print('test data R-squared:')\n",
    "print(rsquared_test)\n",
    "\n",
    "# Finally, let's see what our y-intercept is, so we can interpret what our baseline sales number looks like, all things considered:\n",
    "print(\"y interecept:\")\n",
    "print(model.intercept_)\n"
   ]
  }
 ],
 "metadata": {
  "kernelspec": {
   "display_name": "Python 3",
   "language": "python",
   "name": "python3"
  },
  "language_info": {
   "codemirror_mode": {
    "name": "ipython",
    "version": 3
   },
   "file_extension": ".py",
   "mimetype": "text/x-python",
   "name": "python",
   "nbconvert_exporter": "python",
   "pygments_lexer": "ipython3",
   "version": "3.6.5"
  }
 },
 "nbformat": 4,
 "nbformat_minor": 2
}
