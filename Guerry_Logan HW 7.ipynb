{
 "cells": [
  {
   "cell_type": "markdown",
   "metadata": {},
   "source": [
    "# Guerry_Logan HW 7"
   ]
  },
  {
   "cell_type": "code",
   "execution_count": null,
   "metadata": {},
   "outputs": [],
   "source": [
    "import pandas as pd\n",
    "import json\n",
    "import requests\n",
    "\n",
    "msas = pd.read_csv('msas.csv')\n",
    "\n",
    "df = pd.DataFrame(msas)\n",
    "\n",
    "tableids = ['B01001','B03002','B19001']\n",
    "\n",
    "tableidstring = ','.join(tableids)\n",
    "\n",
    "msas['Value'] = '31000US'\n",
    "msas['geo'] = msas[['Value', 'CBSA']].astype(str).sum(axis=1)\n",
    " \n",
    "geoid= msas['geo'] \n",
    "\n",
    "# Question 1\n",
    "# 31000US12060 1361189.0\n",
    "for msas in geoid:\n",
    "    ageurl =  'http://api.censusreporter.org/1.0/data/show/latest?table_ids=B01001&geo_ids=%s' % msas\n",
    "    censusreporter = requests.get(ageurl)\n",
    "    loadedjson = json.loads(censusreporter.content)\n",
    "    agetotal = 0\n",
    "    agetotal += loadedjson['data'][msas]['B01001']['estimate']['B01001007']\n",
    "    agetotal += loadedjson['data'][msas]['B01001']['estimate']['B01001008']\n",
    "    agetotal += loadedjson['data'][msas]['B01001']['estimate']['B01001009']\n",
    "    agetotal += loadedjson['data'][msas]['B01001']['estimate']['B01001010']\n",
    "    agetotal += loadedjson['data'][msas]['B01001']['estimate']['B01001011']\n",
    "    agetotal += loadedjson['data'][msas]['B01001']['estimate']['B01001012']\n",
    "    agetotal += loadedjson['data'][msas]['B01001']['estimate']['B01001031']\n",
    "    agetotal += loadedjson['data'][msas]['B01001']['estimate']['B01001032']\n",
    "    agetotal += loadedjson['data'][msas]['B01001']['estimate']['B01001033']\n",
    "    agetotal += loadedjson['data'][msas]['B01001']['estimate']['B01001034']\n",
    "    agetotal += loadedjson['data'][msas]['B01001']['estimate']['B01001035']\n",
    "    agetotal += loadedjson['data'][msas]['B01001']['estimate']['B01001036']\n",
    "    print(msas, agetotal)\n",
    "    \n",
    "# Question 2\n",
    "# 31000US12060 386413.0\n",
    "for msas in geoid:\n",
    "    incomeurl = 'http://api.censusreporter.org/1.0/data/show/latest?table_ids=B19001&geo_ids=%s' % msas\n",
    "    censusreporter = requests.get(incomeurl)\n",
    "    loadedjson = json.loads(censusreporter.content)\n",
    "    incometotal = 0\n",
    "    incometotal += loadedjson['data'][msas]['B19001']['estimate']['B19001011']\n",
    "    incometotal += loadedjson['data'][msas]['B19001']['estimate']['B19001012']\n",
    "    print(msas, incometotal)\n",
    "\n",
    "# Question 3\n",
    "# 31000US12420 688320.0\n",
    "for msas in geoid:\n",
    "    hispanicurl = 'http://api.censusreporter.org/1.0/data/show/latest?table_ids=B03002&geo_ids=%s' % msas\n",
    "    censusreporter = requests.get(hispanicurl)\n",
    "    loadedjson = json.loads(censusreporter.content)\n",
    "    hispanictotal = 0\n",
    "    hispanictotal += loadedjson['data'][msas]['B03002']['estimate']['B03002012']\n",
    "    print(msas, hispanictotal)\n",
    "\n",
    "# Question 4\n",
    "sum(df['POPESTIMATE2017'])"
   ]
  }
 ],
 "metadata": {
  "kernelspec": {
   "display_name": "Python 3",
   "language": "python",
   "name": "python3"
  },
  "language_info": {
   "codemirror_mode": {
    "name": "ipython",
    "version": 3
   },
   "file_extension": ".py",
   "mimetype": "text/x-python",
   "name": "python",
   "nbconvert_exporter": "python",
   "pygments_lexer": "ipython3",
   "version": "3.6.5"
  }
 },
 "nbformat": 4,
 "nbformat_minor": 2
}
